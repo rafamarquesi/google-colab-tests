{
  "nbformat": 4,
  "nbformat_minor": 0,
  "metadata": {
    "colab": {
      "name": "Untitled0.ipynb",
      "provenance": [],
      "authorship_tag": "ABX9TyOflvwVXo+/ANvEhfVTceck",
      "include_colab_link": true
    },
    "kernelspec": {
      "name": "python3",
      "display_name": "Python 3"
    },
    "language_info": {
      "name": "python"
    }
  },
  "cells": [
    {
      "cell_type": "markdown",
      "metadata": {
        "id": "view-in-github",
        "colab_type": "text"
      },
      "source": [
        "<a href=\"https://colab.research.google.com/github/rafamarquesi/google-colab-tests/blob/main/teste1.ipynb\" target=\"_parent\"><img src=\"https://colab.research.google.com/assets/colab-badge.svg\" alt=\"Open In Colab\"/></a>"
      ]
    },
    {
      "cell_type": "markdown",
      "metadata": {
        "id": "SzE2Yrgr5JRz"
      },
      "source": [
        "# Import libraries\n",
        "\n",
        "Here, we important the necessary libraries used in this notebook."
      ]
    },
    {
      "cell_type": "code",
      "metadata": {
        "id": "VWuX1amc4zyw",
        "outputId": "dcfe4334-56b2-4bd8-f0b4-ca68474ef738",
        "colab": {
          "base_uri": "https://localhost:8080/"
        }
      },
      "source": [
        "import pandas as pd\n",
        "import seaborn as sns\n",
        "import numpy as np\n",
        "from sklearn import svm\n",
        "import matplotlib.pyplot as plt\n",
        "\n",
        "! pip install py3dmol"
      ],
      "execution_count": 13,
      "outputs": [
        {
          "output_type": "stream",
          "text": [
            "Collecting py3dmol\n",
            "  Downloading https://files.pythonhosted.org/packages/dd/19/dd527b0db65e730e20c3d5e5a7efbb7fbbf8d98f9debfb47962c13f479d6/py3Dmol-0.9.1-py2.py3-none-any.whl\n",
            "Installing collected packages: py3dmol\n",
            "Successfully installed py3dmol-0.9.1\n"
          ],
          "name": "stdout"
        }
      ]
    },
    {
      "cell_type": "code",
      "metadata": {
        "id": "ktLszmrJ5yS6",
        "outputId": "524ae818-4033-4144-e329-26b3f99ee59a",
        "colab": {
          "base_uri": "https://localhost:8080/",
          "height": 514
        }
      },
      "source": [
        "import py3Dmol\n",
        "p = py3Dmol.view(query='mmtf:1ycr')\n",
        "p.setStyle({'cartoon': {'color':'spectrum'}})"
      ],
      "execution_count": 14,
      "outputs": [
        {
          "output_type": "display_data",
          "data": {
            "application/3dmoljs_load.v0": "<div id=\"3dmolviewer_1622137145563291\"  style=\"position: relative; width: 640px; height: 480px\">\n        <p id=\"3dmolwarning_1622137145563291\" style=\"background-color:#ffcccc;color:black\">You appear to be running in JupyterLab (or JavaScript failed to load for some other reason).  You need to install the 3dmol extension: <br>\n        <tt>jupyter labextension install jupyterlab_3dmol</tt></p>\n        </div>\n<script>\n\nvar loadScriptAsync = function(uri){\n  return new Promise((resolve, reject) => {\n    var tag = document.createElement('script');\n    tag.src = uri;\n    tag.async = true;\n    tag.onload = () => {\n      resolve();\n    };\n  var firstScriptTag = document.getElementsByTagName('script')[0];\n  firstScriptTag.parentNode.insertBefore(tag, firstScriptTag);\n});\n};\n\nif(typeof $3Dmolpromise === 'undefined') {\n$3Dmolpromise = null;\n  $3Dmolpromise = loadScriptAsync('https://3dmol.org/build/3Dmol.js');\n}\n\nvar viewer_1622137145563291 = null;\nvar warn = document.getElementById(\"3dmolwarning_1622137145563291\");\nif(warn) {\n    warn.parentNode.removeChild(warn);\n}\n$3Dmolpromise.then(function() {\nviewer_1622137145563291 = $3Dmol.createViewer($(\"#3dmolviewer_1622137145563291\"),{backgroundColor:\"white\"});\n$3Dmol.download(\"mmtf:1ycr\", viewer_1622137145563291, {}, function() {\nviewer_1622137145563291.zoomTo();\n\tviewer_1622137145563291.setStyle({\"cartoon\": {\"color\": \"spectrum\"}});\nviewer_1622137145563291.render();\n})\n});\n</script>",
            "text/html": [
              "<div id=\"3dmolviewer_1622137145563291\"  style=\"position: relative; width: 640px; height: 480px\">\n",
              "        <p id=\"3dmolwarning_1622137145563291\" style=\"background-color:#ffcccc;color:black\">You appear to be running in JupyterLab (or JavaScript failed to load for some other reason).  You need to install the 3dmol extension: <br>\n",
              "        <tt>jupyter labextension install jupyterlab_3dmol</tt></p>\n",
              "        </div>\n",
              "<script>\n",
              "\n",
              "var loadScriptAsync = function(uri){\n",
              "  return new Promise((resolve, reject) => {\n",
              "    var tag = document.createElement('script');\n",
              "    tag.src = uri;\n",
              "    tag.async = true;\n",
              "    tag.onload = () => {\n",
              "      resolve();\n",
              "    };\n",
              "  var firstScriptTag = document.getElementsByTagName('script')[0];\n",
              "  firstScriptTag.parentNode.insertBefore(tag, firstScriptTag);\n",
              "});\n",
              "};\n",
              "\n",
              "if(typeof $3Dmolpromise === 'undefined') {\n",
              "$3Dmolpromise = null;\n",
              "  $3Dmolpromise = loadScriptAsync('https://3dmol.org/build/3Dmol.js');\n",
              "}\n",
              "\n",
              "var viewer_1622137145563291 = null;\n",
              "var warn = document.getElementById(\"3dmolwarning_1622137145563291\");\n",
              "if(warn) {\n",
              "    warn.parentNode.removeChild(warn);\n",
              "}\n",
              "$3Dmolpromise.then(function() {\n",
              "viewer_1622137145563291 = $3Dmol.createViewer($(\"#3dmolviewer_1622137145563291\"),{backgroundColor:\"white\"});\n",
              "$3Dmol.download(\"mmtf:1ycr\", viewer_1622137145563291, {}, function() {\n",
              "viewer_1622137145563291.zoomTo();\n",
              "\tviewer_1622137145563291.setStyle({\"cartoon\": {\"color\": \"spectrum\"}});\n",
              "viewer_1622137145563291.render();\n",
              "})\n",
              "});\n",
              "</script>"
            ]
          },
          "metadata": {
            "tags": []
          }
        },
        {
          "output_type": "execute_result",
          "data": {
            "text/plain": [
              "<py3Dmol.view at 0x7f181ea64110>"
            ]
          },
          "metadata": {
            "tags": []
          },
          "execution_count": 14
        }
      ]
    },
    {
      "cell_type": "markdown",
      "metadata": {
        "id": "4uhM0dMS26hF"
      },
      "source": [
        "Exemplo de texto vai aqui."
      ]
    },
    {
      "cell_type": "markdown",
      "metadata": {
        "id": "ejueoocn2-8Q"
      },
      "source": [
        "# Heading 1\n",
        "\n",
        "This represents the contents of heading 1"
      ]
    },
    {
      "cell_type": "code",
      "metadata": {
        "id": "D0Ax1CIH3GaL"
      },
      "source": [
        "a = 1"
      ],
      "execution_count": 1,
      "outputs": []
    },
    {
      "cell_type": "code",
      "metadata": {
        "id": "1Mqs5ZVD3ITg"
      },
      "source": [
        "b = 'data'"
      ],
      "execution_count": 4,
      "outputs": []
    },
    {
      "cell_type": "code",
      "metadata": {
        "id": "ACPB6heG3P8Z"
      },
      "source": [
        "c = [1,2,3,4,5]"
      ],
      "execution_count": 5,
      "outputs": []
    },
    {
      "cell_type": "code",
      "metadata": {
        "id": "0DlGcCA73TRX"
      },
      "source": [
        "d = ['John', 'Sally', 'Susy', 'Jack']"
      ],
      "execution_count": 6,
      "outputs": []
    },
    {
      "cell_type": "code",
      "metadata": {
        "id": "1TJmx-153htS",
        "outputId": "c5e60d05-60da-40ed-dd79-a453fb632432",
        "colab": {
          "base_uri": "https://localhost:8080/"
        }
      },
      "source": [
        "for i, j in zip(c, d):\n",
        "  if i == 1:\n",
        "    print(j + ' has ' + str(i) + ' car.')\n",
        "  else:\n",
        "    print(j + ' has ' + str(i) + ' cars.')"
      ],
      "execution_count": 8,
      "outputs": [
        {
          "output_type": "stream",
          "text": [
            "John has 1 car.\n",
            "Sally has 2 cars.\n",
            "Susy has 3 cars.\n",
            "Jack has 4 cars.\n"
          ],
          "name": "stdout"
        }
      ]
    },
    {
      "cell_type": "markdown",
      "metadata": {
        "id": "nniYXT0r4GKr"
      },
      "source": [
        "# Heading 2\n",
        "\n",
        "blah blah blah"
      ]
    },
    {
      "cell_type": "code",
      "metadata": {
        "id": "2fmcnI5R4N_g"
      },
      "source": [
        "var1 = 2"
      ],
      "execution_count": 9,
      "outputs": []
    },
    {
      "cell_type": "markdown",
      "metadata": {
        "id": "SVRmIqfD4S27"
      },
      "source": [
        "### HEading 3"
      ]
    },
    {
      "cell_type": "code",
      "metadata": {
        "id": "QtM1BIYa4W3J"
      },
      "source": [
        ""
      ],
      "execution_count": null,
      "outputs": []
    }
  ]
}